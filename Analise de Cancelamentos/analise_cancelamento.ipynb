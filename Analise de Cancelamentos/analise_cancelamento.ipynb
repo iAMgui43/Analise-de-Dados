{
 "cells": [
  {
   "cell_type": "markdown",
   "metadata": {},
   "source": [
    "\n",
    "\n",
    "### Case - Cancelamento de Clientes\n",
    "\n",
    "Você foi contratado por uma empresa com mais de 800 mil clientes para um projeto de Dados. Recentemente a empresa percebeu que da sua base total de clientes, a maioria são clientes inativos, ou seja, que já cancelaram o serviço.\n",
    "\n",
    "Precisando melhorar seus resultados ela quer conseguir entender os principais motivos desses cancelamentos e quais as ações mais eficientes para reduzir esse número.\n",
    "\n"
   ]
  },
  {
   "cell_type": "code",
   "execution_count": null,
   "metadata": {},
   "outputs": [],
   "source": [
    "#Passo a Passo case_cancelamentos\n",
    "# 1 -> Importar base de dados\n",
    "import pandas as pd\n",
    "\n",
    "tabela = pd.read_csv(\"cancelamentos.csv\")\n"
   ]
  },
  {
   "cell_type": "code",
   "execution_count": null,
   "metadata": {},
   "outputs": [],
   "source": [
    "\n",
    "# 2 -> Vizualizar base de Dados\n",
    "# - > Removendo colunas que não serão utilizadas \n",
    "# - > linha > axis = 0\n",
    "# - > coluna > axis = 1\n",
    "tabela = tabela.drop(\"CustomerID\", axis=1)\n",
    "display(tabela)"
   ]
  },
  {
   "cell_type": "code",
   "execution_count": null,
   "metadata": {},
   "outputs": [],
   "source": [
    "# 3 -> Tratamento de dados\n",
    "# -> Removendo valores em branco\n",
    "tabela = tabela.dropna()\n",
    "display(tabela.info())\n"
   ]
  },
  {
   "cell_type": "code",
   "execution_count": null,
   "metadata": {},
   "outputs": [],
   "source": [
    "# 4 -> Analise Inicial (Entender como estão os cancelamentos)\n",
    "display(tabela[\"cancelou\"].value_counts())\n",
    "# > Comando normalize=True passa os valores em %\n",
    "# > Utilizando o \".map\" e passando o formato correto ele realiza a transformação do número junto com o \".format\"\n",
    "display(tabela[\"cancelou\"].value_counts(normalize=True).map(\"{:.1%}\".format))\n"
   ]
  },
  {
   "cell_type": "code",
   "execution_count": null,
   "metadata": {},
   "outputs": [],
   "source": [
    "display(tabela[\"duracao_contrato\"].value_counts())\n",
    "display(tabela[\"duracao_contrato\"].value_counts(normalize=True).map(\"{:.1%}\".format))\n"
   ]
  },
  {
   "cell_type": "code",
   "execution_count": null,
   "metadata": {},
   "outputs": [],
   "source": [
    "# > numeric_only > está instruindo o pandas a considerar apenas as colunas numéricas ao executar a operação\n",
    "display(tabela.groupby(\"duracao_contrato\").mean(numeric_only=True))\n",
    "display(tabela.groupby(\"assinatura\").mean(numeric_only=True))"
   ]
  },
  {
   "cell_type": "code",
   "execution_count": null,
   "metadata": {},
   "outputs": [],
   "source": [
    "# Observação --> Contrato Mensal sempre cancela\n",
    "\n",
    "# A linha de códig abaixo ignora os mensais\n",
    "tabela = tabela[tabela[\"duracao_contrato\"]!=\"Monthly\"]\n",
    "\n",
    "#Resultado sem os valores mensais cancelamentos caiu de 56,7% para 46,1% queda de 10% em cancelamento\n",
    "#Solução retirar as assinaturas mensais e tentar converter os clientes para assinatura trimestral ou anual\n",
    "display(tabela[\"cancelou\"].value_counts())\n",
    "display(tabela[\"cancelou\"].value_counts(normalize=True).map(\"{:.1%}\".format))"
   ]
  },
  {
   "cell_type": "code",
   "execution_count": null,
   "metadata": {},
   "outputs": [],
   "source": [
    "# 5 -> Analise profunda da Base (Encontrando a causa dos cancelamentos)\n",
    "# o loop for cria uma variavel coluna onde ela e utilizada o histograma para gerar um gráfico para cada coluna \n",
    "# e facilitar a analise\n",
    "import plotly.express as px\n",
    "\n",
    "for coluna in tabela.columns:\n",
    "    grafico = px.histogram(tabela, x=coluna, color=\"cancelou\")\n",
    "    grafico.show()\n",
    "\n"
   ]
  },
  {
   "cell_type": "markdown",
   "metadata": {},
   "source": [
    "# RESOLUÇÃO FINAL"
   ]
  },
  {
   "cell_type": "code",
   "execution_count": null,
   "metadata": {},
   "outputs": [],
   "source": [
    "# Todas as pessoas com mais de 50 anos está cancelando \n",
    "# (Precisamos de algo que seja atrativo para essas pessoas se manterem)\n",
    "\n",
    "coluna = \"idade\"\n",
    "grafico = px.histogram(tabela, x=coluna, color=\"cancelou\")\n",
    "grafico.show()"
   ]
  },
  {
   "cell_type": "code",
   "execution_count": null,
   "metadata": {},
   "outputs": [],
   "source": [
    "#Apartir de 5 ligações no call center está tendo cancelamento\n",
    "#Melhorar o atendimento no call center e proporcinonar uma boa experiência ao cliente \n",
    "\n",
    "coluna = \"ligacoes_callcenter\"\n",
    "grafico = px.histogram(tabela, x=coluna, color=\"cancelou\")\n",
    "grafico.show()"
   ]
  },
  {
   "cell_type": "code",
   "execution_count": null,
   "metadata": {},
   "outputs": [],
   "source": [
    "#Apartir de 20 dias em atraso os clientes efetuam o cancelamento\n",
    "#Oferecer alguma recompensa para quando o pagamento for efetuado na data correta isso fará com que o cliente seja pontual\n",
    "coluna = \"dias_atraso\"\n",
    "grafico = px.histogram(tabela, x=coluna, color=\"cancelou\")\n",
    "grafico.show()"
   ]
  },
  {
   "cell_type": "code",
   "execution_count": null,
   "metadata": {},
   "outputs": [],
   "source": [
    "#Clientes que gastam menos de 500 tem alta tendência de efetuar o cancelamento\n",
    "#Descobrir o que faz ele desistir tão cedo \n",
    "coluna = \"total_gasto\"\n",
    "grafico = px.histogram(tabela, x=coluna, color=\"cancelou\")\n",
    "grafico.show()"
   ]
  }
 ],
 "metadata": {
  "kernelspec": {
   "display_name": "Python 3",
   "language": "python",
   "name": "python3"
  },
  "language_info": {
   "codemirror_mode": {
    "name": "ipython",
    "version": 3
   },
   "file_extension": ".py",
   "mimetype": "text/x-python",
   "name": "python",
   "nbconvert_exporter": "python",
   "pygments_lexer": "ipython3",
   "version": "3.10.11"
  },
  "orig_nbformat": 4
 },
 "nbformat": 4,
 "nbformat_minor": 2
}
